{
 "cells": [
  {
   "cell_type": "markdown",
   "id": "1fb84934",
   "metadata": {},
   "source": [
    "# 🔢 NumPy: Numerical Python\n",
    "\n",
    "**Definition:** NumPy is the core library for numerical and scientific computing in Python.  \n",
    "It introduces the `ndarray` object (N-dimensional array), which is faster and more efficient than Python lists.\n",
    "\n",
    "### Why NumPy?\n",
    "- Efficient storage and fast operations on arrays of numbers.\n",
    "- Powerful tools for linear algebra, Fourier transforms, and random number generation.\n",
    "- Supports broadcasting, which eliminates the need for loops.\n",
    "\n",
    "💡 **Real-world Use Cases:**\n",
    "- ML preprocessing (normalize and scale features)\n",
    "- Simulations in physics or finance\n",
    "- Image manipulation (arrays of pixel values)\n"
   ]
  },
  {
   "cell_type": "code",
   "execution_count": null,
   "id": "a3c8121d",
   "metadata": {},
   "outputs": [],
   "source": [
    "import numpy as np"
   ]
  },
  {
   "cell_type": "markdown",
   "id": "095d5862",
   "metadata": {},
   "source": [
    "### Example: Creating Arrays\n",
    "Here we create 1D and 2D arrays using NumPy. Arrays are the foundation for all numerical operations."
   ]
  },
  {
   "cell_type": "code",
   "execution_count": null,
   "id": "7eb2dfb2",
   "metadata": {},
   "outputs": [],
   "source": [
    "# Basic array creation\n",
    "arr = np.array([1,2,3,4,5])\n",
    "print(\"1D Array:\", arr)\n",
    "\n",
    "matrix = np.array([[1,2,3],[4,5,6],[7,8,9]])\n",
    "print(\"\\n2D Matrix:\\n\", matrix)\n",
    "\n",
    "print(\"\\nShape:\", matrix.shape)\n",
    "print(\"Size:\", matrix.size)\n",
    "print(\"Datatype:\", matrix.dtype)"
   ]
  },
  {
   "cell_type": "markdown",
   "id": "c8432a3e",
   "metadata": {},
   "source": [
    "### Example: Indexing & Masks\n",
    "Boolean masks filter elements (like even numbers), while fancy indexing selects specific indices."
   ]
  },
  {
   "cell_type": "code",
   "execution_count": null,
   "id": "bb729ce7",
   "metadata": {},
   "outputs": [],
   "source": [
    "# Indexing, slicing, fancy indexing, boolean masks\n",
    "arr = np.arange(10)\n",
    "print(\"Original:\", arr)\n",
    "print(\"Even numbers:\", arr[arr % 2 == 0])\n",
    "indices = [1, 3, 5, 7]\n",
    "print(\"Picked elements:\", arr[indices])"
   ]
  },
  {
   "cell_type": "markdown",
   "id": "e4519b85",
   "metadata": {},
   "source": [
    "### Example: Reshaping, Transpose, Stacking, Splitting\n",
    "Reshape changes dimensions, transpose flips rows/cols, stacking combines arrays, splitting divides them."
   ]
  },
  {
   "cell_type": "code",
   "execution_count": null,
   "id": "4186bf13",
   "metadata": {},
   "outputs": [],
   "source": [
    "# Reshaping, transpose, stacking, splitting\n",
    "arr = np.arange(1,13).reshape(3,4)\n",
    "print(\"Matrix:\\n\", arr)\n",
    "print(\"Transpose:\\n\", arr.T)\n",
    "\n",
    "a = np.array([1,2,3])\n",
    "b = np.array([4,5,6])\n",
    "print(\"Horizontal Stack:\", np.hstack((a,b)))\n",
    "print(\"Vertical Stack:\\n\", np.vstack((a,b)))\n",
    "\n",
    "split1, split2 = np.split(np.arange(1,11), 2)\n",
    "print(\"First half:\", split1)\n",
    "print(\"Second half:\", split2)"
   ]
  },
  {
   "cell_type": "markdown",
   "id": "9a8546d6",
   "metadata": {},
   "source": [
    "### Example: Mathematical Functions\n",
    "NumPy provides fast vectorized math functions such as sin, cos, exp. Useful for scientific and engineering computations."
   ]
  },
  {
   "cell_type": "code",
   "execution_count": null,
   "id": "7c695bbb",
   "metadata": {},
   "outputs": [],
   "source": [
    "# Mathematical functions\n",
    "x = np.linspace(0, 2*np.pi, 5)\n",
    "print(\"x:\", x)\n",
    "print(\"sin(x):\", np.sin(x))\n",
    "print(\"cos(x):\", np.cos(x))\n",
    "print(\"exp(x):\", np.exp(x))"
   ]
  },
  {
   "cell_type": "markdown",
   "id": "1856b7e4",
   "metadata": {},
   "source": [
    "### Example: Sorting & Searching\n",
    "Sort values, find max index, or locate elements using `np.where()`."
   ]
  },
  {
   "cell_type": "code",
   "execution_count": null,
   "id": "1a5c503b",
   "metadata": {},
   "outputs": [],
   "source": [
    "# Sorting & Searching\n",
    "arr = np.array([10, 2, 8, 4, 7])\n",
    "print(\"Original:\", arr)\n",
    "print(\"Sorted:\", np.sort(arr))\n",
    "print(\"Index of max:\", np.argmax(arr))\n",
    "print(\"Where arr > 5:\", np.where(arr > 5))"
   ]
  },
  {
   "cell_type": "markdown",
   "id": "4be08829",
   "metadata": {},
   "source": [
    "### Example: Broadcasting\n",
    "Apply operations across an array without writing loops. Here we reduce all salaries by 10% tax."
   ]
  },
  {
   "cell_type": "code",
   "execution_count": null,
   "id": "9389a064",
   "metadata": {},
   "outputs": [],
   "source": [
    "# Broadcasting & vectorized operations\n",
    "salaries = np.array([1000,2000,3000,4000])\n",
    "print(\"After 10% tax:\", salaries * 0.9)"
   ]
  },
  {
   "cell_type": "markdown",
   "id": "be25eba9",
   "metadata": {},
   "source": [
    "### Example: Linear Algebra\n",
    "Perform matrix multiplication, essential for ML algorithms and simulations."
   ]
  },
  {
   "cell_type": "code",
   "execution_count": null,
   "id": "c2c7f2c0",
   "metadata": {},
   "outputs": [],
   "source": [
    "# Linear Algebra\n",
    "A = np.array([[1,2],[3,4]])\n",
    "B = np.array([[5,6],[7,8]])\n",
    "print(\"Matrix Multiplication:\\n\", np.dot(A,B))"
   ]
  },
  {
   "cell_type": "markdown",
   "id": "9db94ebc",
   "metadata": {},
   "source": [
    "### Example: Random Numbers & Statistics\n",
    "Generate random numbers for simulations or ML initialization, and compute basic stats like mean and std."
   ]
  },
  {
   "cell_type": "code",
   "execution_count": null,
   "id": "e4062a6e",
   "metadata": {},
   "outputs": [],
   "source": [
    "# Random numbers & statistics\n",
    "rand_matrix = np.random.randint(1,100,(3,3))\n",
    "print(\"Random Matrix:\\n\", rand_matrix)\n",
    "\n",
    "data = np.random.normal(50, 10, 1000)\n",
    "print(\"Mean:\", data.mean(), \" Std Dev:\", data.std())"
   ]
  },
  {
   "cell_type": "markdown",
   "id": "88186e2c",
   "metadata": {},
   "source": [
    "# 🐼 Pandas: Data Manipulation\n",
    "\n",
    "**Definition:** Pandas provides high-performance data structures and data analysis tools.\n",
    "\n",
    "### Core Data Structures\n",
    "- **Series**: 1D labeled array (like a column in Excel)\n",
    "- **DataFrame**: 2D table of rows and columns\n",
    "\n",
    "💡 **Real-world Use Cases:**\n",
    "- Business analytics (sales, HR, finance)\n",
    "- Data cleaning before ML model training\n",
    "- Handling time-series data\n"
   ]
  },
  {
   "cell_type": "markdown",
   "id": "a4e38662",
   "metadata": {},
   "source": [
    "### Example: Creating a Pandas DataFrame\n",
    "We build an employee dataset for analysis."
   ]
  },
  {
   "cell_type": "code",
   "execution_count": null,
   "id": "76b0c121",
   "metadata": {},
   "outputs": [],
   "source": [
    "import pandas as pd\n",
    "\n",
    "# Sample Employee dataset\n",
    "data = {\n",
    "    'ID': [1,2,3,4,5,6,7,8],\n",
    "    'Name': ['Alice','Bob','Charlie','David','Eva','Frank','Grace','Helen'],\n",
    "    'Age': [25,30,35,40,29,50,28,32],\n",
    "    'Department': ['HR','IT','Finance','IT','HR','Finance','IT','Marketing'],\n",
    "    'Salary': [50000,60000,70000,80000,None,95000,62000,72000],\n",
    "    'JoiningDate': ['2019-03-01','2018-07-15','2020-01-12','2017-06-23','2019-11-05','2015-05-30','2021-01-10','2018-09-25'],\n",
    "    'Bonus': [5000,None,7000,8000,4500,10000,None,6000]\n",
    "}\n",
    "df = pd.DataFrame(data)\n",
    "df['JoiningDate'] = pd.to_datetime(df['JoiningDate'])\n",
    "df"
   ]
  },
  {
   "cell_type": "markdown",
   "id": "8351a182",
   "metadata": {},
   "source": [
    "### Example: Inspecting Data\n",
    "`info()` shows structure and nulls, `describe()` provides summary statistics."
   ]
  },
  {
   "cell_type": "code",
   "execution_count": null,
   "id": "e6a58a1c",
   "metadata": {},
   "outputs": [],
   "source": [
    "# Inspecting\n",
    "print(df.info())\n",
    "print(df.describe())"
   ]
  },
  {
   "cell_type": "markdown",
   "id": "aa22c3c9",
   "metadata": {},
   "source": [
    "### Example: Handling Missing Data\n",
    "Fill missing values with averages or drop rows with missing entries."
   ]
  },
  {
   "cell_type": "code",
   "execution_count": null,
   "id": "cc077734",
   "metadata": {},
   "outputs": [],
   "source": [
    "# Handling missing values\n",
    "df['Salary'].fillna(df['Salary'].mean(), inplace=True)\n",
    "df = df.dropna(subset=['Bonus'])\n",
    "df"
   ]
  },
  {
   "cell_type": "markdown",
   "id": "c2baec99",
   "metadata": {},
   "source": [
    "### Example: Selecting & Filtering\n",
    "Select specific columns or rows based on conditions."
   ]
  },
  {
   "cell_type": "code",
   "execution_count": null,
   "id": "366f2527",
   "metadata": {},
   "outputs": [],
   "source": [
    "# Selecting & filtering\n",
    "print(df[['Name','Department','Salary']])\n",
    "print(df[(df['Department']=='IT') & (df['Salary']>65000)])"
   ]
  },
  {
   "cell_type": "markdown",
   "id": "8bccfbdb",
   "metadata": {},
   "source": [
    "### Example: Sorting\n",
    "Arrange rows by Salary (descending or ascending)."
   ]
  },
  {
   "cell_type": "code",
   "execution_count": null,
   "id": "b98eddeb",
   "metadata": {},
   "outputs": [],
   "source": [
    "# Sorting\n",
    "df.sort_values(by='Salary', ascending=False)"
   ]
  },
  {
   "cell_type": "markdown",
   "id": "8cfed46a",
   "metadata": {},
   "source": [
    "### Example: Apply Functions\n",
    "Use `.apply()` with `lambda` to compute new columns, e.g., Bonus as % of Salary."
   ]
  },
  {
   "cell_type": "code",
   "execution_count": null,
   "id": "5720f998",
   "metadata": {},
   "outputs": [],
   "source": [
    "# Apply functions\n",
    "df['BonusPercent'] = df.apply(lambda row: (row['Bonus']/row['Salary'])*100, axis=1)\n",
    "df[['Name','Salary','Bonus','BonusPercent']]"
   ]
  },
  {
   "cell_type": "markdown",
   "id": "71d9a315",
   "metadata": {},
   "source": [
    "### Example: String Operations\n",
    "Handle text data with functions like uppercase and substring checks."
   ]
  },
  {
   "cell_type": "code",
   "execution_count": null,
   "id": "ea3ab784",
   "metadata": {},
   "outputs": [],
   "source": [
    "# String operations\n",
    "df['NameUpper'] = df['Name'].str.upper()\n",
    "df['IsIT'] = df['Department'].str.contains('IT')\n",
    "df[['Name','NameUpper','IsIT']]"
   ]
  },
  {
   "cell_type": "markdown",
   "id": "64ccc8b9",
   "metadata": {},
   "source": [
    "### Example: Date/Time Handling\n",
    "Extract parts of datetime like year and month."
   ]
  },
  {
   "cell_type": "code",
   "execution_count": null,
   "id": "9f17f68a",
   "metadata": {},
   "outputs": [],
   "source": [
    "# Date/time handling\n",
    "df['JoinYear'] = df['JoiningDate'].dt.year\n",
    "df['JoinMonth'] = df['JoiningDate'].dt.month\n",
    "df[['Name','JoiningDate','JoinYear','JoinMonth']]"
   ]
  },
  {
   "cell_type": "markdown",
   "id": "2c6774af",
   "metadata": {},
   "source": [
    "### Example: Grouping & Aggregation\n",
    "Summarize data per category, e.g., average Salary per Department."
   ]
  },
  {
   "cell_type": "code",
   "execution_count": null,
   "id": "71d15e9a",
   "metadata": {},
   "outputs": [],
   "source": [
    "# Grouping & aggregation\n",
    "print(df.groupby('Department')['Salary'].mean())"
   ]
  },
  {
   "cell_type": "markdown",
   "id": "20c11639",
   "metadata": {},
   "source": [
    "### Example: Pivot Tables\n",
    "Reshape and summarize data, similar to Excel Pivot Tables."
   ]
  },
  {
   "cell_type": "code",
   "execution_count": null,
   "id": "0af61c89",
   "metadata": {},
   "outputs": [],
   "source": [
    "# Pivot tables\n",
    "pd.pivot_table(df, values='Salary', index='Department', aggfunc='mean')"
   ]
  },
  {
   "cell_type": "markdown",
   "id": "e2d5e6e8",
   "metadata": {},
   "source": [
    "### Example: Creating a Pandas DataFrame\n",
    "We build an employee dataset for analysis."
   ]
  },
  {
   "cell_type": "code",
   "execution_count": null,
   "id": "7791f7d3",
   "metadata": {},
   "outputs": [],
   "source": [
    "# Joins\n",
    "dept_extra = pd.DataFrame({\n",
    "    'Department': ['HR','IT','Finance','Marketing','Legal'],\n",
    "    'Head': ['Anna','John','Sam','Rose','Tom']\n",
    "})\n",
    "pd.merge(df, dept_extra, on='Department', how='left')"
   ]
  },
  {
   "cell_type": "markdown",
   "id": "e50f512a",
   "metadata": {},
   "source": [
    "### Example: File I/O\n",
    "Save DataFrames to CSV and load them back."
   ]
  },
  {
   "cell_type": "code",
   "execution_count": null,
   "id": "0e02a5a9",
   "metadata": {},
   "outputs": [],
   "source": [
    "# File I/O\n",
    "df.to_csv(\"employees.csv\", index=False)\n",
    "df_loaded = pd.read_csv(\"employees.csv\")\n",
    "df_loaded.head()"
   ]
  },
  {
   "cell_type": "markdown",
   "id": "14f354a6",
   "metadata": {},
   "source": [
    "# 🎨 Matplotlib: Visualization\n",
    "\n",
    "**Definition:** Matplotlib is the base library for creating static, animated, and interactive visualizations.\n",
    "\n",
    "### Features\n",
    "- Highly customizable\n",
    "- Supports line, bar, scatter, histogram\n",
    "- Works with Pandas and NumPy\n",
    "\n",
    "💡 **Use Cases:** Sales dashboards, performance monitoring, scientific visualization.\n"
   ]
  },
  {
   "cell_type": "markdown",
   "id": "225c5b15",
   "metadata": {},
   "source": [
    "### Example: Line Plot\n",
    "Used to show trends over categories (e.g., employee salaries)."
   ]
  },
  {
   "cell_type": "code",
   "execution_count": null,
   "id": "f3cddf26",
   "metadata": {},
   "outputs": [],
   "source": [
    "import matplotlib.pyplot as plt\n",
    "\n",
    "# Line plot\n",
    "plt.plot(df['Name'], df['Salary'], marker='o', color='blue')\n",
    "plt.title(\"Employee Salaries\")\n",
    "plt.xlabel(\"Employee\")\n",
    "plt.ylabel(\"Salary\")\n",
    "plt.xticks(rotation=45)\n",
    "plt.show()"
   ]
  },
  {
   "cell_type": "markdown",
   "id": "2f66e1b1",
   "metadata": {},
   "source": [
    "### Example: Histogram\n",
    "Shows distribution of continuous variables (e.g., Age distribution)."
   ]
  },
  {
   "cell_type": "code",
   "execution_count": null,
   "id": "da0293b3",
   "metadata": {},
   "outputs": [],
   "source": [
    "# Histogram\n",
    "plt.hist(df['Age'], bins=5, color='orange')\n",
    "plt.title(\"Age Distribution\")\n",
    "plt.xlabel(\"Age\")\n",
    "plt.ylabel(\"Frequency\")\n",
    "plt.show()"
   ]
  },
  {
   "cell_type": "markdown",
   "id": "0c9dbdfd",
   "metadata": {},
   "source": [
    "### Example: Styled Plot\n",
    "Customize lines, markers, colors, and add grid and legend."
   ]
  },
  {
   "cell_type": "code",
   "execution_count": null,
   "id": "73239a52",
   "metadata": {},
   "outputs": [],
   "source": [
    "# Styled plots\n",
    "x = [1,2,3,4,5]\n",
    "y = [10,20,25,30,40]\n",
    "plt.plot(x, y, 'r--', marker='o', label='Trend')\n",
    "plt.xlabel(\"X-axis\")\n",
    "plt.ylabel(\"Y-axis\")\n",
    "plt.title(\"Styled Line Plot\")\n",
    "plt.legend()\n",
    "plt.grid(True)\n",
    "plt.show()"
   ]
  },
  {
   "cell_type": "markdown",
   "id": "1ca53a5e",
   "metadata": {},
   "source": [
    "### Example: Subplots & Pie Chart\n",
    "Display multiple plots in one figure. Pie charts show proportion of categories."
   ]
  },
  {
   "cell_type": "code",
   "execution_count": null,
   "id": "88e943f6",
   "metadata": {},
   "outputs": [],
   "source": [
    "# Multiple subplots & pie chart\n",
    "plt.figure(figsize=(10,5))\n",
    "\n",
    "plt.subplot(1,2,1)\n",
    "plt.scatter(df['Age'], df['Salary'], color='blue')\n",
    "plt.title(\"Age vs Salary\")\n",
    "\n",
    "plt.subplot(1,2,2)\n",
    "plt.pie(df['Department'].value_counts(), labels=df['Department'].value_counts().index, autopct='%1.1f%%')\n",
    "plt.title(\"Employees by Department\")\n",
    "\n",
    "plt.tight_layout()\n",
    "plt.show()"
   ]
  },
  {
   "cell_type": "markdown",
   "id": "19a1c611",
   "metadata": {},
   "source": [
    "### Example: Saving Figures\n",
    "Export plots to image files for reports."
   ]
  },
  {
   "cell_type": "code",
   "execution_count": null,
   "id": "b8359160",
   "metadata": {},
   "outputs": [],
   "source": [
    "# Saving figures\n",
    "plt.bar(df['Name'], df['Salary'])\n",
    "plt.title(\"Employee Salaries\")\n",
    "plt.xticks(rotation=45)\n",
    "plt.savefig(\"employee_salaries.png\")\n",
    "plt.show()"
   ]
  },
  {
   "cell_type": "markdown",
   "id": "02adbb54",
   "metadata": {},
   "source": [
    "# 🌈 Seaborn: Statistical Visualization\n",
    "\n",
    "**Definition:** Seaborn is built on Matplotlib and provides a high-level interface for attractive statistical graphics.\n",
    "\n",
    "### Features\n",
    "- Easy integration with Pandas\n",
    "- Specialized plots for distributions and categories\n",
    "- Beautiful styles by default\n",
    "\n",
    "💡 **Use Cases:** Correlation heatmaps, EDA, categorical comparisons.\n"
   ]
  },
  {
   "cell_type": "markdown",
   "id": "2eaabdf6",
   "metadata": {},
   "source": [
    "### Example: Distribution Plot with KDE\n",
    "Histograms show data distribution. KDE adds smooth curve to visualize density."
   ]
  },
  {
   "cell_type": "code",
   "execution_count": null,
   "id": "04764b10",
   "metadata": {},
   "outputs": [],
   "source": [
    "import seaborn as sns\n",
    "\n",
    "# Distribution plots\n",
    "sns.histplot(df['Salary'], kde=True, bins=6)\n",
    "plt.title(\"Salary Distribution with KDE\")\n",
    "plt.show()"
   ]
  },
  {
   "cell_type": "markdown",
   "id": "88868429",
   "metadata": {},
   "source": [
    "### Example: Scatterplot\n",
    "Shows relationship between two variables (e.g., Age vs Salary), colored by Department."
   ]
  },
  {
   "cell_type": "code",
   "execution_count": null,
   "id": "d1952a82",
   "metadata": {},
   "outputs": [],
   "source": [
    "# Scatterplot\n",
    "sns.scatterplot(x='Age', y='Salary', hue='Department', size='Bonus', data=df)\n",
    "plt.title(\"Age vs Salary by Department\")\n",
    "plt.show()"
   ]
  },
  {
   "cell_type": "markdown",
   "id": "f297d500",
   "metadata": {},
   "source": [
    "### Example: Boxplot\n",
    "Shows distribution, median, and outliers per category."
   ]
  },
  {
   "cell_type": "code",
   "execution_count": null,
   "id": "f8dc6bcb",
   "metadata": {},
   "outputs": [],
   "source": [
    "# Boxplot & Violin plot\n",
    "plt.figure(figsize=(12,5))\n",
    "\n",
    "plt.subplot(1,2,1)\n",
    "sns.boxplot(x='Department', y='Salary', data=df)\n",
    "plt.title(\"Boxplot: Salary by Department\")\n",
    "\n",
    "plt.subplot(1,2,2)\n",
    "sns.violinplot(x='Department', y='Salary', data=df, palette=\"muted\")\n",
    "plt.title(\"Violinplot: Salary by Department\")\n",
    "\n",
    "plt.tight_layout()\n",
    "plt.show()"
   ]
  },
  {
   "cell_type": "markdown",
   "id": "4e48d088",
   "metadata": {},
   "source": [
    "### Example: Countplot\n",
    "Shows frequency of categorical values (e.g., number of employees per Department)."
   ]
  },
  {
   "cell_type": "code",
   "execution_count": null,
   "id": "931d4856",
   "metadata": {},
   "outputs": [],
   "source": [
    "# Countplot & Barplot\n",
    "sns.countplot(x='Department', data=df)\n",
    "plt.title(\"Department Count\")\n",
    "plt.show()\n",
    "\n",
    "sns.barplot(x='Department', y='Salary', data=df, estimator=np.mean, ci=None)\n",
    "plt.title(\"Average Salary by Department\")\n",
    "plt.show()"
   ]
  },
  {
   "cell_type": "markdown",
   "id": "6568dafb",
   "metadata": {},
   "source": [
    "### Example: Heatmap\n",
    "Visualizes correlations between numeric columns."
   ]
  },
  {
   "cell_type": "code",
   "execution_count": null,
   "id": "49a7655e",
   "metadata": {},
   "outputs": [],
   "source": [
    "# Heatmap & Pairplot\n",
    "plt.figure(figsize=(8,6))\n",
    "sns.heatmap(df.corr(numeric_only=True), annot=True, cmap=\"coolwarm\")\n",
    "plt.title(\"Correlation Heatmap\")\n",
    "plt.show()\n",
    "\n",
    "sns.pairplot(df[['Age','Salary','Bonus','AnnualSalary']], diag_kind='kde')\n",
    "plt.show()"
   ]
  },
  {
   "cell_type": "markdown",
   "id": "a7428ed1",
   "metadata": {},
   "source": [
    "### Example: Distribution Plot with KDE\n",
    "Histograms show data distribution. KDE adds smooth curve to visualize density."
   ]
  },
  {
   "cell_type": "code",
   "execution_count": null,
   "id": "c7cadc62",
   "metadata": {},
   "outputs": [],
   "source": [
    "# Lineplot & FacetGrid\n",
    "sns.lineplot(x='Age', y='Salary', data=df, marker='o')\n",
    "plt.title(\"Lineplot: Age vs Salary\")\n",
    "plt.show()\n",
    "\n",
    "g = sns.FacetGrid(df, col=\"Department\")\n",
    "g.map(sns.histplot, \"Age\")\n",
    "plt.show()"
   ]
  },
  {
   "cell_type": "markdown",
   "id": "3bbb3243",
   "metadata": {},
   "source": [
    "### Example: Jointplot\n",
    "Combines scatterplot with histograms for joint distributions."
   ]
  },
  {
   "cell_type": "code",
   "execution_count": null,
   "id": "8c7d3547",
   "metadata": {},
   "outputs": [],
   "source": [
    "# Jointplot\n",
    "sns.jointplot(x='Age', y='Salary', data=df, kind='scatter')\n",
    "plt.show()"
   ]
  },
  {
   "cell_type": "markdown",
   "id": "b4091ae9",
   "metadata": {},
   "source": [
    "# 🎯 Wrap-Up\n",
    "\n",
    "- **NumPy** → Fast numerical operations (arrays, math, linear algebra, random)\n",
    "- **Pandas** → Rich data manipulation (filtering, grouping, pivot, joins)\n",
    "- **Matplotlib** → Customizable plots\n",
    "- **Seaborn** → Beautiful statistical plots\n",
    "\n",
    "👉 Together, these libraries form the **foundation of Data Science in Python**.\n",
    "\n",
    "---\n",
    "✅ Next Step: Try applying these techniques to your own dataset (CSV/Excel/SQL)."
   ]
  },
  {
   "cell_type": "code",
   "execution_count": null,
   "id": "a634802a-d965-4782-81ce-a88bdeab49cd",
   "metadata": {},
   "outputs": [],
   "source": []
  }
 ],
 "metadata": {
  "kernelspec": {
   "display_name": "Python 3 (ipykernel)",
   "language": "python",
   "name": "python3"
  },
  "language_info": {
   "codemirror_mode": {
    "name": "ipython",
    "version": 3
   },
   "file_extension": ".py",
   "mimetype": "text/x-python",
   "name": "python",
   "nbconvert_exporter": "python",
   "pygments_lexer": "ipython3",
   "version": "3.10.12"
  }
 },
 "nbformat": 4,
 "nbformat_minor": 5
}
