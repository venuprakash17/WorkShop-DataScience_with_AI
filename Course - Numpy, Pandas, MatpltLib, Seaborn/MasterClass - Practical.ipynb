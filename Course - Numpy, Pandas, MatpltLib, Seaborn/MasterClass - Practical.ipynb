{
 "cells": [
  {
   "cell_type": "markdown",
   "id": "1fb84934",
   "metadata": {},
   "source": [
    "# 🔢 NumPy: Numerical Python\n",
    "\n",
    "**Definition:** NumPy is the core library for numerical and scientific computing in Python.  \n",
    "It introduces the `ndarray` object (N-dimensional array), which is faster and more efficient than Python lists.\n",
    "\n",
    "### Why NumPy?\n",
    "- Efficient storage and fast operations on arrays of numbers.\n",
    "- Powerful tools for linear algebra, Fourier transforms, and random number generation.\n",
    "- Supports broadcasting, which eliminates the need for loops.\n",
    "\n",
    "💡 **Real-world Use Cases:**\n",
    "- ML preprocessing (normalize and scale features)\n",
    "- Simulations in physics or finance\n",
    "- Image manipulation (arrays of pixel values)\n"
   ]
  },
  {
   "cell_type": "code",
   "execution_count": 21,
   "id": "a3c8121d",
   "metadata": {},
   "outputs": [],
   "source": [
    "import numpy as np"
   ]
  },
  {
   "cell_type": "code",
   "execution_count": 22,
   "id": "be6e68cb-4147-4f2c-888c-aec09627f33c",
   "metadata": {},
   "outputs": [
    {
     "name": "stdout",
     "output_type": "stream",
     "text": [
      "1D Array: [1 2 3 4 5]\n"
     ]
    }
   ],
   "source": [
    "arr = np.array([1,2,3,4,5])\n",
    "print(\"1D Array:\", arr)"
   ]
  },
  {
   "cell_type": "markdown",
   "id": "095d5862",
   "metadata": {},
   "source": [
    "### Example: Creating Arrays\n",
    "Here we create 1D and 2D arrays using NumPy. Arrays are the foundation for all numerical operations."
   ]
  },
  {
   "cell_type": "code",
   "execution_count": 23,
   "id": "034da4bd-56b6-4452-9b99-1e583ef1d402",
   "metadata": {},
   "outputs": [
    {
     "name": "stdout",
     "output_type": "stream",
     "text": [
      "\n",
      "2D Matrix:\n",
      " [[1 2 3]\n",
      " [4 5 6]\n",
      " [7 8 9]]\n"
     ]
    }
   ],
   "source": [
    "matrix = np.array([[1,2,3],[4,5,6],[7,8,9]])\n",
    "print(\"\\n2D Matrix:\\n\", matrix)"
   ]
  },
  {
   "cell_type": "code",
   "execution_count": 24,
   "id": "7eb2dfb2",
   "metadata": {},
   "outputs": [
    {
     "name": "stdout",
     "output_type": "stream",
     "text": [
      "\n",
      "2D Matrix:\n",
      " [[1 2 3]\n",
      " [4 5 6]\n",
      " [7 8 9]]\n",
      "\n",
      "Shape: (3, 3)\n",
      "Size: 9\n",
      "Datatype: int64\n"
     ]
    }
   ],
   "source": [
    "# Basic array creation\n",
    "\n",
    "\n",
    "matrix = np.array([[1,2,3],[4,5,6],[7,8,9]])\n",
    "print(\"\\n2D Matrix:\\n\", matrix)\n",
    "\n",
    "print(\"\\nShape:\", matrix.shape)\n",
    "print(\"Size:\", matrix.size)\n",
    "print(\"Datatype:\", matrix.dtype)"
   ]
  },
  {
   "cell_type": "markdown",
   "id": "c8432a3e",
   "metadata": {},
   "source": [
    "### Example: Indexing & Masks\n",
    "Boolean masks filter elements (like even numbers), while fancy indexing selects specific indices."
   ]
  },
  {
   "cell_type": "code",
   "execution_count": 25,
   "id": "ef02db50-bde2-4bf5-a9ec-6955ee6c0b5d",
   "metadata": {},
   "outputs": [
    {
     "data": {
      "text/plain": [
       "[0, 1, 2, 3, 4, 5, 6, 7, 8, 9]"
      ]
     },
     "execution_count": 25,
     "metadata": {},
     "output_type": "execute_result"
    }
   ],
   "source": [
    "list(range(10))"
   ]
  },
  {
   "cell_type": "code",
   "execution_count": 26,
   "id": "bb729ce7",
   "metadata": {},
   "outputs": [
    {
     "name": "stdout",
     "output_type": "stream",
     "text": [
      "[5 7 9]\n",
      "Original: [0 1 2 3 4 5 6 7 8 9]\n",
      "Even numbers: [0 2 4 6 8]\n",
      "Picked elements: [1 3 5 7]\n"
     ]
    }
   ],
   "source": [
    "# Indexing, slicing, fancy indexing, boolean masks\n",
    "a = np.array([1,2,3])\n",
    "b = np.array([4,5,6])\n",
    "print(a+b)\n",
    "arr = np.arange(10)\n",
    "print(\"Original:\", arr)\n",
    "print(\"Even numbers:\", arr[arr % 2 == 0])\n",
    "indices = [1, 3, 5, 7]\n",
    "print(\"Picked elements:\", arr[indices])"
   ]
  },
  {
   "cell_type": "markdown",
   "id": "e4519b85",
   "metadata": {},
   "source": [
    "### Example: Reshaping, Transpose, Stacking, Splitting\n",
    "Reshape changes dimensions, transpose flips rows/cols, stacking combines arrays, splitting divides them."
   ]
  },
  {
   "cell_type": "code",
   "execution_count": 27,
   "id": "4186bf13",
   "metadata": {},
   "outputs": [
    {
     "name": "stdout",
     "output_type": "stream",
     "text": [
      "Matrix:\n",
      " [[ 1  2  3  4]\n",
      " [ 5  6  7  8]\n",
      " [ 9 10 11 12]]\n",
      "Transpose:\n",
      " [[ 1  5  9]\n",
      " [ 2  6 10]\n",
      " [ 3  7 11]\n",
      " [ 4  8 12]]\n",
      "Horizontal Stack: [1 2 3 4 5 6]\n",
      "Vertical Stack:\n",
      " [[1 2 3]\n",
      " [4 5 6]]\n",
      "First half: [1 2 3 4 5]\n",
      "Second half: [ 6  7  8  9 10]\n"
     ]
    }
   ],
   "source": [
    "# Reshaping, transpose, stacking, splitting\n",
    "arr = np.arange(1,13).reshape(3,4)\n",
    "print(\"Matrix:\\n\", arr)\n",
    "print(\"Transpose:\\n\", arr.T)\n",
    "\n",
    "a = np.array([1,2,3])\n",
    "b = np.array([4,5,6])\n",
    "print(\"Horizontal Stack:\", np.hstack((a,b)))\n",
    "print(\"Vertical Stack:\\n\", np.vstack((a,b)))\n",
    "\n",
    "split1, split2 = np.split(np.arange(1,11), 2)\n",
    "print(\"First half:\", split1)\n",
    "print(\"Second half:\", split2)"
   ]
  },
  {
   "cell_type": "code",
   "execution_count": 28,
   "id": "1b6d90d8-9083-4855-aab6-994c187d9bf0",
   "metadata": {},
   "outputs": [
    {
     "data": {
      "text/plain": [
       "array([ 0. ,  2.5,  5. ,  7.5, 10. ])"
      ]
     },
     "execution_count": 28,
     "metadata": {},
     "output_type": "execute_result"
    }
   ],
   "source": [
    "x = np.linspace(0, 10, 5)\n",
    "x"
   ]
  },
  {
   "cell_type": "markdown",
   "id": "9a8546d6",
   "metadata": {},
   "source": [
    "### Example: Mathematical Functions\n",
    "NumPy provides fast vectorized math functions such as sin, cos, exp. Useful for scientific and engineering computations."
   ]
  },
  {
   "cell_type": "code",
   "execution_count": 29,
   "id": "7c695bbb",
   "metadata": {},
   "outputs": [
    {
     "name": "stdout",
     "output_type": "stream",
     "text": [
      "x: [0.         1.57079633 3.14159265 4.71238898 6.28318531]\n",
      "sin(x): [ 0.0000000e+00  1.0000000e+00  1.2246468e-16 -1.0000000e+00\n",
      " -2.4492936e-16]\n",
      "cos(x): [ 1.0000000e+00  6.1232340e-17 -1.0000000e+00 -1.8369702e-16\n",
      "  1.0000000e+00]\n",
      "exp(x): [  1.           4.81047738  23.14069263 111.31777849 535.49165552]\n"
     ]
    }
   ],
   "source": [
    "# Mathematical functions\n",
    "x = np.linspace(0, 2*np.pi, 5)\n",
    "print(\"x:\", x)\n",
    "print(\"sin(x):\", np.sin(x))\n",
    "print(\"cos(x):\", np.cos(x))\n",
    "print(\"exp(x):\", np.exp(x))"
   ]
  },
  {
   "cell_type": "markdown",
   "id": "1856b7e4",
   "metadata": {},
   "source": [
    "### Example: Sorting & Searching\n",
    "Sort values, find max index, or locate elements using `np.where()`."
   ]
  },
  {
   "cell_type": "code",
   "execution_count": 30,
   "id": "1a5c503b",
   "metadata": {},
   "outputs": [
    {
     "name": "stdout",
     "output_type": "stream",
     "text": [
      "Original: [10  2  8  4  7]\n",
      "Sorted: [ 2  4  7  8 10]\n",
      "Index of max: 0\n",
      "Where arr > 5: (array([0, 2, 4]),)\n"
     ]
    }
   ],
   "source": [
    "# Sorting & Searching\n",
    "arr = np.array([10, 2, 8, 4, 7])\n",
    "print(\"Original:\", arr)\n",
    "print(\"Sorted:\", np.sort(arr))\n",
    "print(\"Index of max:\", np.argmax(arr))\n",
    "print(\"Where arr > 5:\", np.where(arr > 5))"
   ]
  },
  {
   "cell_type": "markdown",
   "id": "4be08829",
   "metadata": {},
   "source": [
    "### Example: Broadcasting\n",
    "Apply operations across an array without writing loops. Here we reduce all salaries by 10% tax."
   ]
  },
  {
   "cell_type": "code",
   "execution_count": 31,
   "id": "9389a064",
   "metadata": {},
   "outputs": [
    {
     "name": "stdout",
     "output_type": "stream",
     "text": [
      "After 10% tax: [ 900. 1800. 2700. 3600.]\n"
     ]
    }
   ],
   "source": [
    "# Broadcasting & vectorized operations\n",
    "salaries = np.array([1000,2000,3000,4000])\n",
    "print(\"After 10% tax:\", salaries * 0.9)"
   ]
  },
  {
   "cell_type": "markdown",
   "id": "be25eba9",
   "metadata": {},
   "source": [
    "### Example: Linear Algebra\n",
    "Perform matrix multiplication, essential for ML algorithms and simulations."
   ]
  },
  {
   "cell_type": "code",
   "execution_count": 32,
   "id": "c2c7f2c0",
   "metadata": {},
   "outputs": [
    {
     "name": "stdout",
     "output_type": "stream",
     "text": [
      "Matrix Multiplication:\n",
      " [[19 22]\n",
      " [43 50]]\n"
     ]
    }
   ],
   "source": [
    "# Linear Algebra\n",
    "A = np.array([[1,2],[3,4]])\n",
    "B = np.array([[5,6],[7,8]])\n",
    "print(\"Matrix Multiplication:\\n\", np.dot(A,B))"
   ]
  },
  {
   "cell_type": "markdown",
   "id": "9db94ebc",
   "metadata": {},
   "source": [
    "### Example: Random Numbers & Statistics\n",
    "Generate random numbers for simulations or ML initialization, and compute basic stats like mean and std."
   ]
  },
  {
   "cell_type": "code",
   "execution_count": 33,
   "id": "e4062a6e",
   "metadata": {},
   "outputs": [
    {
     "name": "stdout",
     "output_type": "stream",
     "text": [
      "Random Matrix:\n",
      " [[98  3 52]\n",
      " [22 95 89]\n",
      " [27 83 14]]\n",
      "Mean: 49.84463162957962  Std Dev: 9.577463003814648\n"
     ]
    }
   ],
   "source": [
    "# Random numbers & statistics\n",
    "rand_matrix = np.random.randint(1,100,(3,3))\n",
    "print(\"Random Matrix:\\n\", rand_matrix)\n",
    "\n",
    "data = np.random.normal(50, 10, 1000)\n",
    "print(\"Mean:\", data.mean(), \" Std Dev:\", data.std())"
   ]
  },
  {
   "cell_type": "markdown",
   "id": "88186e2c",
   "metadata": {},
   "source": [
    "# 🐼 Pandas: Data Manipulation\n",
    "\n",
    "**Definition:** Pandas provides high-performance data structures and data analysis tools.\n",
    "\n",
    "### Core Data Structures\n",
    "- **Series**: 1D labeled array (like a column in Excel)\n",
    "- **DataFrame**: 2D table of rows and columns\n",
    "\n",
    "💡 **Real-world Use Cases:**\n",
    "- Business analytics (sales, HR, finance)\n",
    "- Data cleaning before ML model training\n",
    "- Handling time-series data\n"
   ]
  },
  {
   "cell_type": "markdown",
   "id": "a4e38662",
   "metadata": {},
   "source": [
    "### Example: Creating a Pandas DataFrame\n",
    "We build an employee dataset for analysis."
   ]
  },
  {
   "cell_type": "code",
   "execution_count": 34,
   "id": "76b0c121",
   "metadata": {},
   "outputs": [
    {
     "data": {
      "text/html": [
       "<div>\n",
       "<style scoped>\n",
       "    .dataframe tbody tr th:only-of-type {\n",
       "        vertical-align: middle;\n",
       "    }\n",
       "\n",
       "    .dataframe tbody tr th {\n",
       "        vertical-align: top;\n",
       "    }\n",
       "\n",
       "    .dataframe thead th {\n",
       "        text-align: right;\n",
       "    }\n",
       "</style>\n",
       "<table border=\"1\" class=\"dataframe\">\n",
       "  <thead>\n",
       "    <tr style=\"text-align: right;\">\n",
       "      <th></th>\n",
       "      <th>ID</th>\n",
       "      <th>Name</th>\n",
       "      <th>Age</th>\n",
       "      <th>Department</th>\n",
       "      <th>Salary</th>\n",
       "      <th>JoiningDate</th>\n",
       "      <th>Bonus</th>\n",
       "    </tr>\n",
       "  </thead>\n",
       "  <tbody>\n",
       "    <tr>\n",
       "      <th>0</th>\n",
       "      <td>1</td>\n",
       "      <td>Alice</td>\n",
       "      <td>25</td>\n",
       "      <td>HR</td>\n",
       "      <td>50000.0</td>\n",
       "      <td>2019-03-01</td>\n",
       "      <td>5000.0</td>\n",
       "    </tr>\n",
       "    <tr>\n",
       "      <th>1</th>\n",
       "      <td>2</td>\n",
       "      <td>Bob</td>\n",
       "      <td>30</td>\n",
       "      <td>IT</td>\n",
       "      <td>60000.0</td>\n",
       "      <td>2018-07-15</td>\n",
       "      <td>NaN</td>\n",
       "    </tr>\n",
       "    <tr>\n",
       "      <th>2</th>\n",
       "      <td>3</td>\n",
       "      <td>Charlie</td>\n",
       "      <td>35</td>\n",
       "      <td>Finance</td>\n",
       "      <td>70000.0</td>\n",
       "      <td>2020-01-12</td>\n",
       "      <td>7000.0</td>\n",
       "    </tr>\n",
       "    <tr>\n",
       "      <th>3</th>\n",
       "      <td>4</td>\n",
       "      <td>David</td>\n",
       "      <td>40</td>\n",
       "      <td>IT</td>\n",
       "      <td>80000.0</td>\n",
       "      <td>2017-06-23</td>\n",
       "      <td>8000.0</td>\n",
       "    </tr>\n",
       "    <tr>\n",
       "      <th>4</th>\n",
       "      <td>5</td>\n",
       "      <td>Eva</td>\n",
       "      <td>29</td>\n",
       "      <td>HR</td>\n",
       "      <td>NaN</td>\n",
       "      <td>2019-11-05</td>\n",
       "      <td>4500.0</td>\n",
       "    </tr>\n",
       "    <tr>\n",
       "      <th>5</th>\n",
       "      <td>6</td>\n",
       "      <td>Frank</td>\n",
       "      <td>50</td>\n",
       "      <td>Finance</td>\n",
       "      <td>95000.0</td>\n",
       "      <td>2015-05-30</td>\n",
       "      <td>10000.0</td>\n",
       "    </tr>\n",
       "    <tr>\n",
       "      <th>6</th>\n",
       "      <td>7</td>\n",
       "      <td>Grace</td>\n",
       "      <td>28</td>\n",
       "      <td>IT</td>\n",
       "      <td>62000.0</td>\n",
       "      <td>2021-01-10</td>\n",
       "      <td>NaN</td>\n",
       "    </tr>\n",
       "    <tr>\n",
       "      <th>7</th>\n",
       "      <td>8</td>\n",
       "      <td>Helen</td>\n",
       "      <td>32</td>\n",
       "      <td>Marketing</td>\n",
       "      <td>72000.0</td>\n",
       "      <td>2018-09-25</td>\n",
       "      <td>6000.0</td>\n",
       "    </tr>\n",
       "  </tbody>\n",
       "</table>\n",
       "</div>"
      ],
      "text/plain": [
       "   ID     Name  Age Department   Salary JoiningDate    Bonus\n",
       "0   1    Alice   25         HR  50000.0  2019-03-01   5000.0\n",
       "1   2      Bob   30         IT  60000.0  2018-07-15      NaN\n",
       "2   3  Charlie   35    Finance  70000.0  2020-01-12   7000.0\n",
       "3   4    David   40         IT  80000.0  2017-06-23   8000.0\n",
       "4   5      Eva   29         HR      NaN  2019-11-05   4500.0\n",
       "5   6    Frank   50    Finance  95000.0  2015-05-30  10000.0\n",
       "6   7    Grace   28         IT  62000.0  2021-01-10      NaN\n",
       "7   8    Helen   32  Marketing  72000.0  2018-09-25   6000.0"
      ]
     },
     "execution_count": 34,
     "metadata": {},
     "output_type": "execute_result"
    }
   ],
   "source": [
    "import pandas as pd\n",
    "\n",
    "# Sample Employee dataset\n",
    "data = {\n",
    "    'ID': [1,2,3,4,5,6,7,8],\n",
    "    'Name': ['Alice','Bob','Charlie','David','Eva','Frank','Grace','Helen'],\n",
    "    'Age': [25,30,35,40,29,50,28,32],\n",
    "    'Department': ['HR','IT','Finance','IT','HR','Finance','IT','Marketing'],\n",
    "    'Salary': [50000,60000,70000,80000,None,95000,62000,72000],\n",
    "    'JoiningDate': ['2019-03-01','2018-07-15','2020-01-12','2017-06-23','2019-11-05','2015-05-30','2021-01-10','2018-09-25'],\n",
    "    'Bonus': [5000,None,7000,8000,4500,10000,None,6000]\n",
    "}\n",
    "df = pd.DataFrame(data)\n",
    "df.head(5)\n",
    "df['JoiningDate'] = pd.to_datetime(df['JoiningDate'])\n",
    "df"
   ]
  },
  {
   "cell_type": "markdown",
   "id": "8351a182",
   "metadata": {},
   "source": [
    "### Example: Inspecting Data\n",
    "`info()` shows structure and nulls, `describe()` provides summary statistics."
   ]
  },
  {
   "cell_type": "code",
   "execution_count": 35,
   "id": "e6a58a1c",
   "metadata": {},
   "outputs": [
    {
     "name": "stdout",
     "output_type": "stream",
     "text": [
      "df.info()\n",
      "<class 'pandas.core.frame.DataFrame'>\n",
      "RangeIndex: 8 entries, 0 to 7\n",
      "Data columns (total 7 columns):\n",
      " #   Column       Non-Null Count  Dtype         \n",
      "---  ------       --------------  -----         \n",
      " 0   ID           8 non-null      int64         \n",
      " 1   Name         8 non-null      object        \n",
      " 2   Age          8 non-null      int64         \n",
      " 3   Department   8 non-null      object        \n",
      " 4   Salary       7 non-null      float64       \n",
      " 5   JoiningDate  8 non-null      datetime64[ns]\n",
      " 6   Bonus        6 non-null      float64       \n",
      "dtypes: datetime64[ns](1), float64(2), int64(2), object(2)\n",
      "memory usage: 576.0+ bytes\n",
      "None\n",
      "            ID        Age        Salary          JoiningDate         Bonus\n",
      "count  8.00000   8.000000      7.000000                    8      6.000000\n",
      "mean   4.50000  33.625000  69857.142857  2018-10-11 06:00:00   6750.000000\n",
      "min    1.00000  25.000000  50000.000000  2015-05-30 00:00:00   4500.000000\n",
      "25%    2.75000  28.750000  61000.000000  2018-04-09 06:00:00   5250.000000\n",
      "50%    4.50000  31.000000  70000.000000  2018-12-12 12:00:00   6500.000000\n",
      "75%    6.25000  36.250000  76000.000000  2019-11-22 00:00:00   7750.000000\n",
      "max    8.00000  50.000000  95000.000000  2021-01-10 00:00:00  10000.000000\n",
      "std    2.44949   8.052285  14679.107278                  NaN   2043.281674\n"
     ]
    }
   ],
   "source": [
    "# Inspecting\n",
    "print(\"df.info()\")\n",
    "print(df.info())\n",
    "print(df.describe())"
   ]
  },
  {
   "cell_type": "markdown",
   "id": "aa22c3c9",
   "metadata": {},
   "source": [
    "### Example: Handling Missing Data\n",
    "Fill missing values with averages or drop rows with missing entries."
   ]
  },
  {
   "cell_type": "code",
   "execution_count": 36,
   "id": "cc077734",
   "metadata": {},
   "outputs": [
    {
     "name": "stderr",
     "output_type": "stream",
     "text": [
      "/var/folders/v5/2xv9352947zbqtzrjyrby08c0000gn/T/ipykernel_5899/742367056.py:2: FutureWarning: A value is trying to be set on a copy of a DataFrame or Series through chained assignment using an inplace method.\n",
      "The behavior will change in pandas 3.0. This inplace method will never work because the intermediate object on which we are setting values always behaves as a copy.\n",
      "\n",
      "For example, when doing 'df[col].method(value, inplace=True)', try using 'df.method({col: value}, inplace=True)' or df[col] = df[col].method(value) instead, to perform the operation inplace on the original object.\n",
      "\n",
      "\n",
      "  df['Salary'].fillna(df['Salary'].mean(), inplace=True)\n"
     ]
    },
    {
     "data": {
      "text/html": [
       "<div>\n",
       "<style scoped>\n",
       "    .dataframe tbody tr th:only-of-type {\n",
       "        vertical-align: middle;\n",
       "    }\n",
       "\n",
       "    .dataframe tbody tr th {\n",
       "        vertical-align: top;\n",
       "    }\n",
       "\n",
       "    .dataframe thead th {\n",
       "        text-align: right;\n",
       "    }\n",
       "</style>\n",
       "<table border=\"1\" class=\"dataframe\">\n",
       "  <thead>\n",
       "    <tr style=\"text-align: right;\">\n",
       "      <th></th>\n",
       "      <th>ID</th>\n",
       "      <th>Name</th>\n",
       "      <th>Age</th>\n",
       "      <th>Department</th>\n",
       "      <th>Salary</th>\n",
       "      <th>JoiningDate</th>\n",
       "      <th>Bonus</th>\n",
       "    </tr>\n",
       "  </thead>\n",
       "  <tbody>\n",
       "    <tr>\n",
       "      <th>0</th>\n",
       "      <td>1</td>\n",
       "      <td>Alice</td>\n",
       "      <td>25</td>\n",
       "      <td>HR</td>\n",
       "      <td>50000.000000</td>\n",
       "      <td>2019-03-01</td>\n",
       "      <td>5000.0</td>\n",
       "    </tr>\n",
       "    <tr>\n",
       "      <th>2</th>\n",
       "      <td>3</td>\n",
       "      <td>Charlie</td>\n",
       "      <td>35</td>\n",
       "      <td>Finance</td>\n",
       "      <td>70000.000000</td>\n",
       "      <td>2020-01-12</td>\n",
       "      <td>7000.0</td>\n",
       "    </tr>\n",
       "    <tr>\n",
       "      <th>3</th>\n",
       "      <td>4</td>\n",
       "      <td>David</td>\n",
       "      <td>40</td>\n",
       "      <td>IT</td>\n",
       "      <td>80000.000000</td>\n",
       "      <td>2017-06-23</td>\n",
       "      <td>8000.0</td>\n",
       "    </tr>\n",
       "    <tr>\n",
       "      <th>4</th>\n",
       "      <td>5</td>\n",
       "      <td>Eva</td>\n",
       "      <td>29</td>\n",
       "      <td>HR</td>\n",
       "      <td>69857.142857</td>\n",
       "      <td>2019-11-05</td>\n",
       "      <td>4500.0</td>\n",
       "    </tr>\n",
       "    <tr>\n",
       "      <th>5</th>\n",
       "      <td>6</td>\n",
       "      <td>Frank</td>\n",
       "      <td>50</td>\n",
       "      <td>Finance</td>\n",
       "      <td>95000.000000</td>\n",
       "      <td>2015-05-30</td>\n",
       "      <td>10000.0</td>\n",
       "    </tr>\n",
       "    <tr>\n",
       "      <th>7</th>\n",
       "      <td>8</td>\n",
       "      <td>Helen</td>\n",
       "      <td>32</td>\n",
       "      <td>Marketing</td>\n",
       "      <td>72000.000000</td>\n",
       "      <td>2018-09-25</td>\n",
       "      <td>6000.0</td>\n",
       "    </tr>\n",
       "  </tbody>\n",
       "</table>\n",
       "</div>"
      ],
      "text/plain": [
       "   ID     Name  Age Department        Salary JoiningDate    Bonus\n",
       "0   1    Alice   25         HR  50000.000000  2019-03-01   5000.0\n",
       "2   3  Charlie   35    Finance  70000.000000  2020-01-12   7000.0\n",
       "3   4    David   40         IT  80000.000000  2017-06-23   8000.0\n",
       "4   5      Eva   29         HR  69857.142857  2019-11-05   4500.0\n",
       "5   6    Frank   50    Finance  95000.000000  2015-05-30  10000.0\n",
       "7   8    Helen   32  Marketing  72000.000000  2018-09-25   6000.0"
      ]
     },
     "execution_count": 36,
     "metadata": {},
     "output_type": "execute_result"
    }
   ],
   "source": [
    "# Handling missing values\n",
    "df['Salary'].fillna(df['Salary'].mean(), inplace=True)\n",
    "df = df.dropna(subset=['Bonus'])\n",
    "df"
   ]
  },
  {
   "cell_type": "markdown",
   "id": "c2baec99",
   "metadata": {},
   "source": [
    "### Example: Selecting & Filtering\n",
    "Select specific columns or rows based on conditions."
   ]
  },
  {
   "cell_type": "code",
   "execution_count": 37,
   "id": "366f2527",
   "metadata": {},
   "outputs": [
    {
     "name": "stdout",
     "output_type": "stream",
     "text": [
      "      Name Department        Salary\n",
      "0    Alice         HR  50000.000000\n",
      "2  Charlie    Finance  70000.000000\n",
      "3    David         IT  80000.000000\n",
      "4      Eva         HR  69857.142857\n",
      "5    Frank    Finance  95000.000000\n",
      "7    Helen  Marketing  72000.000000\n",
      "   ID   Name  Age Department   Salary JoiningDate   Bonus\n",
      "3   4  David   40         IT  80000.0  2017-06-23  8000.0\n"
     ]
    }
   ],
   "source": [
    "# Selecting & filtering\n",
    "print(df[['Name','Department','Salary']])\n",
    "print(df[(df['Department']=='IT') & (df['Salary']>65000)])"
   ]
  },
  {
   "cell_type": "markdown",
   "id": "8bccfbdb",
   "metadata": {},
   "source": [
    "### Example: Sorting\n",
    "Arrange rows by Salary (descending or ascending)."
   ]
  },
  {
   "cell_type": "code",
   "execution_count": 38,
   "id": "b98eddeb",
   "metadata": {},
   "outputs": [
    {
     "data": {
      "text/html": [
       "<div>\n",
       "<style scoped>\n",
       "    .dataframe tbody tr th:only-of-type {\n",
       "        vertical-align: middle;\n",
       "    }\n",
       "\n",
       "    .dataframe tbody tr th {\n",
       "        vertical-align: top;\n",
       "    }\n",
       "\n",
       "    .dataframe thead th {\n",
       "        text-align: right;\n",
       "    }\n",
       "</style>\n",
       "<table border=\"1\" class=\"dataframe\">\n",
       "  <thead>\n",
       "    <tr style=\"text-align: right;\">\n",
       "      <th></th>\n",
       "      <th>ID</th>\n",
       "      <th>Name</th>\n",
       "      <th>Age</th>\n",
       "      <th>Department</th>\n",
       "      <th>Salary</th>\n",
       "      <th>JoiningDate</th>\n",
       "      <th>Bonus</th>\n",
       "    </tr>\n",
       "  </thead>\n",
       "  <tbody>\n",
       "    <tr>\n",
       "      <th>5</th>\n",
       "      <td>6</td>\n",
       "      <td>Frank</td>\n",
       "      <td>50</td>\n",
       "      <td>Finance</td>\n",
       "      <td>95000.000000</td>\n",
       "      <td>2015-05-30</td>\n",
       "      <td>10000.0</td>\n",
       "    </tr>\n",
       "    <tr>\n",
       "      <th>3</th>\n",
       "      <td>4</td>\n",
       "      <td>David</td>\n",
       "      <td>40</td>\n",
       "      <td>IT</td>\n",
       "      <td>80000.000000</td>\n",
       "      <td>2017-06-23</td>\n",
       "      <td>8000.0</td>\n",
       "    </tr>\n",
       "    <tr>\n",
       "      <th>7</th>\n",
       "      <td>8</td>\n",
       "      <td>Helen</td>\n",
       "      <td>32</td>\n",
       "      <td>Marketing</td>\n",
       "      <td>72000.000000</td>\n",
       "      <td>2018-09-25</td>\n",
       "      <td>6000.0</td>\n",
       "    </tr>\n",
       "    <tr>\n",
       "      <th>2</th>\n",
       "      <td>3</td>\n",
       "      <td>Charlie</td>\n",
       "      <td>35</td>\n",
       "      <td>Finance</td>\n",
       "      <td>70000.000000</td>\n",
       "      <td>2020-01-12</td>\n",
       "      <td>7000.0</td>\n",
       "    </tr>\n",
       "    <tr>\n",
       "      <th>4</th>\n",
       "      <td>5</td>\n",
       "      <td>Eva</td>\n",
       "      <td>29</td>\n",
       "      <td>HR</td>\n",
       "      <td>69857.142857</td>\n",
       "      <td>2019-11-05</td>\n",
       "      <td>4500.0</td>\n",
       "    </tr>\n",
       "    <tr>\n",
       "      <th>0</th>\n",
       "      <td>1</td>\n",
       "      <td>Alice</td>\n",
       "      <td>25</td>\n",
       "      <td>HR</td>\n",
       "      <td>50000.000000</td>\n",
       "      <td>2019-03-01</td>\n",
       "      <td>5000.0</td>\n",
       "    </tr>\n",
       "  </tbody>\n",
       "</table>\n",
       "</div>"
      ],
      "text/plain": [
       "   ID     Name  Age Department        Salary JoiningDate    Bonus\n",
       "5   6    Frank   50    Finance  95000.000000  2015-05-30  10000.0\n",
       "3   4    David   40         IT  80000.000000  2017-06-23   8000.0\n",
       "7   8    Helen   32  Marketing  72000.000000  2018-09-25   6000.0\n",
       "2   3  Charlie   35    Finance  70000.000000  2020-01-12   7000.0\n",
       "4   5      Eva   29         HR  69857.142857  2019-11-05   4500.0\n",
       "0   1    Alice   25         HR  50000.000000  2019-03-01   5000.0"
      ]
     },
     "execution_count": 38,
     "metadata": {},
     "output_type": "execute_result"
    }
   ],
   "source": [
    "# Sorting\n",
    "df.sort_values(by='Salary', ascending=False)"
   ]
  },
  {
   "cell_type": "code",
   "execution_count": 39,
   "id": "595261df-e4f2-402d-a351-c811afa07e3d",
   "metadata": {},
   "outputs": [
    {
     "ename": "SyntaxError",
     "evalue": "invalid syntax (1152283282.py, line 1)",
     "output_type": "error",
     "traceback": [
      "\u001b[0;36m  Cell \u001b[0;32mIn[39], line 1\u001b[0;36m\u001b[0m\n\u001b[0;31m    df['Retirement years'] = df.apply(lambda row: 60-row['Age'], axis:0)\u001b[0m\n\u001b[0m                                                                     ^\u001b[0m\n\u001b[0;31mSyntaxError\u001b[0m\u001b[0;31m:\u001b[0m invalid syntax\n"
     ]
    }
   ],
   "source": [
    "df['Retirement years'] = df.apply(lambda row: 60-row['Age'], axis:0)"
   ]
  },
  {
   "cell_type": "markdown",
   "id": "8cfed46a",
   "metadata": {},
   "source": [
    "### Example: Apply Functions\n",
    "Use `.apply()` with `lambda` to compute new columns, e.g., Bonus as % of Salary."
   ]
  },
  {
   "cell_type": "code",
   "execution_count": null,
   "id": "5720f998",
   "metadata": {},
   "outputs": [],
   "source": [
    "# Apply functions\n",
    "df['BonusPercent'] = df.apply(lambda row: (row['Bonus']/row['Salary'])*100, axis=1)\n",
    "df[['Name','Salary','Bonus','BonusPercent']]"
   ]
  },
  {
   "cell_type": "markdown",
   "id": "71d9a315",
   "metadata": {},
   "source": [
    "### Example: String Operations\n",
    "Handle text data with functions like uppercase and substring checks."
   ]
  },
  {
   "cell_type": "code",
   "execution_count": null,
   "id": "ea3ab784",
   "metadata": {},
   "outputs": [],
   "source": [
    "# String operations\n",
    "df['NameUpper'] = df['Name'].str.upper()\n",
    "df['IsIT'] = df['Department'].str.contains('IT')\n",
    "df[['Name','NameUpper','IsIT']]"
   ]
  },
  {
   "cell_type": "markdown",
   "id": "64ccc8b9",
   "metadata": {},
   "source": [
    "### Example: Date/Time Handling\n",
    "Extract parts of datetime like year and month."
   ]
  },
  {
   "cell_type": "code",
   "execution_count": null,
   "id": "9f17f68a",
   "metadata": {},
   "outputs": [],
   "source": [
    "# Date/time handling\n",
    "df['JoinYear'] = df['JoiningDate'].dt.year\n",
    "df['JoinMonth'] = df['JoiningDate'].dt.month\n",
    "df[['Name','JoiningDate','JoinYear','JoinMonth']]"
   ]
  },
  {
   "cell_type": "markdown",
   "id": "2c6774af",
   "metadata": {},
   "source": [
    "### Example: Grouping & Aggregation\n",
    "Summarize data per category, e.g., average Salary per Department."
   ]
  },
  {
   "cell_type": "code",
   "execution_count": null,
   "id": "71d15e9a",
   "metadata": {},
   "outputs": [],
   "source": [
    "# Grouping & aggregation\n",
    "print(df.groupby('Department')['Salary'].mean())"
   ]
  },
  {
   "cell_type": "markdown",
   "id": "20c11639",
   "metadata": {},
   "source": [
    "### Example: Pivot Tables\n",
    "Reshape and summarize data, similar to Excel Pivot Tables."
   ]
  },
  {
   "cell_type": "code",
   "execution_count": null,
   "id": "0af61c89",
   "metadata": {},
   "outputs": [],
   "source": [
    "# Pivot tables\n",
    "pd.pivot_table(df, values='Salary', index='Department', aggfunc='mean')"
   ]
  },
  {
   "cell_type": "markdown",
   "id": "e2d5e6e8",
   "metadata": {},
   "source": [
    "### Example: Creating a Pandas DataFrame\n",
    "We build an employee dataset for analysis."
   ]
  },
  {
   "cell_type": "code",
   "execution_count": null,
   "id": "7791f7d3",
   "metadata": {},
   "outputs": [],
   "source": [
    "# Joins\n",
    "dept_extra = pd.DataFrame({\n",
    "    'Department': ['HR','IT','Finance','Marketing','Legal'],\n",
    "    'Head': ['Anna','John','Sam','Rose','Tom']\n",
    "})\n",
    "pd.merge(df, dept_extra, on='Department', how='left')"
   ]
  },
  {
   "cell_type": "markdown",
   "id": "e50f512a",
   "metadata": {},
   "source": [
    "### Example: File I/O\n",
    "Save DataFrames to CSV and load them back."
   ]
  },
  {
   "cell_type": "code",
   "execution_count": null,
   "id": "0e02a5a9",
   "metadata": {},
   "outputs": [],
   "source": [
    "# File I/O\n",
    "df.to_csv(\"employees.csv\", index=False)\n",
    "df_loaded = pd.read_csv(\"employees.csv\")\n",
    "df_loaded.head()"
   ]
  },
  {
   "cell_type": "markdown",
   "id": "14f354a6",
   "metadata": {},
   "source": [
    "# 🎨 Matplotlib: Visualization\n",
    "\n",
    "**Definition:** Matplotlib is the base library for creating static, animated, and interactive visualizations.\n",
    "\n",
    "### Features\n",
    "- Highly customizable\n",
    "- Supports line, bar, scatter, histogram\n",
    "- Works with Pandas and NumPy\n",
    "\n",
    "💡 **Use Cases:** Sales dashboards, performance monitoring, scientific visualization.\n"
   ]
  },
  {
   "cell_type": "markdown",
   "id": "225c5b15",
   "metadata": {},
   "source": [
    "### Example: Line Plot\n",
    "Used to show trends over categories (e.g., employee salaries)."
   ]
  },
  {
   "cell_type": "code",
   "execution_count": null,
   "id": "f3cddf26",
   "metadata": {},
   "outputs": [],
   "source": [
    "import matplotlib.pyplot as plt\n",
    "\n",
    "# Line plot\n",
    "plt.plot(df['Name'], df['Salary'], marker='o', color='red')\n",
    "plt.title(\"Employee Salaries\")\n",
    "plt.xlabel(\"Employee\")\n",
    "plt.ylabel(\"Salary\")\n",
    "plt.xticks(rotation=45)\n",
    "plt.show()"
   ]
  },
  {
   "cell_type": "markdown",
   "id": "2f66e1b1",
   "metadata": {},
   "source": [
    "### Example: Histogram\n",
    "Shows distribution of continuous variables (e.g., Age distribution)."
   ]
  },
  {
   "cell_type": "code",
   "execution_count": null,
   "id": "da0293b3",
   "metadata": {},
   "outputs": [],
   "source": [
    "# Histogram\n",
    "plt.hist(df['Age'], bins=5, color='blue')\n",
    "plt.title(\"Age Distribution\")\n",
    "plt.xlabel(\"Age\")\n",
    "plt.ylabel(\"Frequency\")\n",
    "plt.grid()\n",
    "plt.show()"
   ]
  },
  {
   "cell_type": "markdown",
   "id": "0c9dbdfd",
   "metadata": {},
   "source": [
    "### Example: Styled Plot\n",
    "Customize lines, markers, colors, and add grid and legend."
   ]
  },
  {
   "cell_type": "code",
   "execution_count": null,
   "id": "73239a52",
   "metadata": {},
   "outputs": [],
   "source": [
    "# Styled plots\n",
    "x = [1,2,3,4,5]\n",
    "y = [10,20,25,30,40]\n",
    "plt.plot(x, y, 'r--', marker='s', label='Trend')\n",
    "plt.xlabel(\"X-axis\")\n",
    "plt.ylabel(\"Y-axis\")\n",
    "plt.title(\"Styled Line Plot\")\n",
    "plt.legend()\n",
    "plt.grid(True)\n",
    "plt.show()"
   ]
  },
  {
   "cell_type": "markdown",
   "id": "1ca53a5e",
   "metadata": {},
   "source": [
    "### Example: Subplots & Pie Chart\n",
    "Display multiple plots in one figure. Pie charts show proportion of categories."
   ]
  },
  {
   "cell_type": "code",
   "execution_count": null,
   "id": "88e943f6",
   "metadata": {},
   "outputs": [],
   "source": [
    "# Multiple subplots & pie chart\n",
    "plt.figure(figsize=(10,5))\n",
    "\n",
    "plt.subplot(1,2,1)\n",
    "plt.scatter(df['Age'], df['Salary'], color='blue')\n",
    "plt.title(\"Age vs Salary\")\n",
    "\n",
    "plt.subplot(1,2,2)\n",
    "plt.pie(df['Department'].value_counts(), labels=df['Department'].value_counts().index, autopct='%1.1f%%')\n",
    "plt.title(\"Employees by Department\")\n",
    "\n",
    "plt.tight_layout()\n",
    "plt.show()"
   ]
  },
  {
   "cell_type": "markdown",
   "id": "19a1c611",
   "metadata": {},
   "source": [
    "### Example: Saving Figures\n",
    "Export plots to image files for reports."
   ]
  },
  {
   "cell_type": "code",
   "execution_count": null,
   "id": "b8359160",
   "metadata": {},
   "outputs": [],
   "source": [
    "# Saving figures\n",
    "plt.bar(df['Name'], df['Salary'])\n",
    "plt.title(\"Employee Salaries\")\n",
    "plt.xticks(rotation=45)\n",
    "plt.savefig(\"employee_salaries.png\")\n",
    "plt.show()"
   ]
  },
  {
   "cell_type": "markdown",
   "id": "02adbb54",
   "metadata": {},
   "source": [
    "# 🌈 Seaborn: Statistical Visualization\n",
    "\n",
    "**Definition:** Seaborn is built on Matplotlib and provides a high-level interface for attractive statistical graphics.\n",
    "\n",
    "### Features\n",
    "- Easy integration with Pandas\n",
    "- Specialized plots for distributions and categories\n",
    "- Beautiful styles by default\n",
    "\n",
    "💡 **Use Cases:** Correlation heatmaps, EDA, categorical comparisons.\n"
   ]
  },
  {
   "cell_type": "markdown",
   "id": "2eaabdf6",
   "metadata": {},
   "source": [
    "### Example: Distribution Plot with KDE\n",
    "Histograms show data distribution. KDE adds smooth curve to visualize density."
   ]
  },
  {
   "cell_type": "code",
   "execution_count": 40,
   "id": "04764b10",
   "metadata": {},
   "outputs": [
    {
     "ename": "NameError",
     "evalue": "name 'plt' is not defined",
     "output_type": "error",
     "traceback": [
      "\u001b[0;31m---------------------------------------------------------------------------\u001b[0m",
      "\u001b[0;31mNameError\u001b[0m                                 Traceback (most recent call last)",
      "Cell \u001b[0;32mIn[40], line 5\u001b[0m\n\u001b[1;32m      3\u001b[0m \u001b[38;5;66;03m# Distribution plots\u001b[39;00m\n\u001b[1;32m      4\u001b[0m sns\u001b[38;5;241m.\u001b[39mhistplot(df[\u001b[38;5;124m'\u001b[39m\u001b[38;5;124mSalary\u001b[39m\u001b[38;5;124m'\u001b[39m], kde\u001b[38;5;241m=\u001b[39m\u001b[38;5;28;01mTrue\u001b[39;00m, bins\u001b[38;5;241m=\u001b[39m\u001b[38;5;241m6\u001b[39m)\n\u001b[0;32m----> 5\u001b[0m \u001b[43mplt\u001b[49m\u001b[38;5;241m.\u001b[39mtitle(\u001b[38;5;124m\"\u001b[39m\u001b[38;5;124mSalary Distribution with KDE\u001b[39m\u001b[38;5;124m\"\u001b[39m)\n\u001b[1;32m      6\u001b[0m plt\u001b[38;5;241m.\u001b[39mshow()\n",
      "\u001b[0;31mNameError\u001b[0m: name 'plt' is not defined"
     ]
    },
    {
     "data": {
      "image/png": "[encoded data removed]",
      "text/plain": [
       "<Figure size 640x480 with 1 Axes>"
      ]
     },
     "metadata": {},
     "output_type": "display_data"
    }
   ],
   "source": [
    "import seaborn as sns\n",
    "\n",
    "# Distribution plots\n",
    "sns.histplot(df['Salary'], kde=True, bins=6)\n",
    "plt.title(\"Salary Distribution with KDE\")\n",
    "plt.show()"
   ]
  },
  {
   "cell_type": "markdown",
   "id": "88868429",
   "metadata": {},
   "source": [
    "### Example: Scatterplot\n",
    "Shows relationship between two variables (e.g., Age vs Salary), colored by Department."
   ]
  },
  {
   "cell_type": "code",
   "execution_count": 41,
   "id": "d1952a82",
   "metadata": {},
   "outputs": [
    {
     "ename": "NameError",
     "evalue": "name 'plt' is not defined",
     "output_type": "error",
     "traceback": [
      "\u001b[0;31m---------------------------------------------------------------------------\u001b[0m",
      "\u001b[0;31mNameError\u001b[0m                                 Traceback (most recent call last)",
      "Cell \u001b[0;32mIn[41], line 3\u001b[0m\n\u001b[1;32m      1\u001b[0m \u001b[38;5;66;03m# Scatterplot\u001b[39;00m\n\u001b[1;32m      2\u001b[0m sns\u001b[38;5;241m.\u001b[39mscatterplot(x\u001b[38;5;241m=\u001b[39m\u001b[38;5;124m'\u001b[39m\u001b[38;5;124mAge\u001b[39m\u001b[38;5;124m'\u001b[39m, y\u001b[38;5;241m=\u001b[39m\u001b[38;5;124m'\u001b[39m\u001b[38;5;124mSalary\u001b[39m\u001b[38;5;124m'\u001b[39m, hue\u001b[38;5;241m=\u001b[39m\u001b[38;5;124m'\u001b[39m\u001b[38;5;124mDepartment\u001b[39m\u001b[38;5;124m'\u001b[39m, size\u001b[38;5;241m=\u001b[39m\u001b[38;5;124m'\u001b[39m\u001b[38;5;124mBonus\u001b[39m\u001b[38;5;124m'\u001b[39m, data\u001b[38;5;241m=\u001b[39mdf)\n\u001b[0;32m----> 3\u001b[0m \u001b[43mplt\u001b[49m\u001b[38;5;241m.\u001b[39mtitle(\u001b[38;5;124m\"\u001b[39m\u001b[38;5;124mAge vs Salary by Department\u001b[39m\u001b[38;5;124m\"\u001b[39m)\n\u001b[1;32m      4\u001b[0m plt\u001b[38;5;241m.\u001b[39mshow()\n",
      "\u001b[0;31mNameError\u001b[0m: name 'plt' is not defined"
     ]
    },
    {
     "data": {
      "image/png": "[encoded data removed]",
      "text/plain": [
       "<Figure size 640x480 with 1 Axes>"
      ]
     },
     "metadata": {},
     "output_type": "display_data"
    }
   ],
   "source": [
    "# Scatterplot\n",
    "sns.scatterplot(x='Age', y='Salary', hue='Department', size='Bonus', data=df)\n",
    "plt.title(\"Age vs Salary by Department\")\n",
    "plt.show()"
   ]
  },
  {
   "cell_type": "markdown",
   "id": "f297d500",
   "metadata": {},
   "source": [
    "### Example: Boxplot\n",
    "Shows distribution, median, and outliers per category."
   ]
  },
  {
   "cell_type": "code",
   "execution_count": 44,
   "id": "f8dc6bcb",
   "metadata": {},
   "outputs": [
    {
     "name": "stderr",
     "output_type": "stream",
     "text": [
      "/var/folders/v5/2xv9352947zbqtzrjyrby08c0000gn/T/ipykernel_5899/2520115602.py:11: FutureWarning: \n",
      "\n",
      "Passing `palette` without assigning `hue` is deprecated and will be removed in v0.14.0. Assign the `x` variable to `hue` and set `legend=False` for the same effect.\n",
      "\n",
      "  sns.violinplot(x='Department', y='Salary', data=df, palette=\"muted\")\n"
     ]
    },
    {
     "data": {
      "image/png": "[encoded data removed]",
      "text/plain": [
       "<Figure size 1200x500 with 2 Axes>"
      ]
     },
     "metadata": {},
     "output_type": "display_data"
    }
   ],
   "source": [
    "import matplotlib.pyplot as plt\n",
    "\n",
    "# Boxplot & Violin plot\n",
    "plt.figure(figsize=(12,5))\n",
    "\n",
    "plt.subplot(1,2,1)\n",
    "sns.boxplot(x='Department', y='Salary', data=df)\n",
    "plt.title(\"Boxplot: Salary by Department\")\n",
    "\n",
    "plt.subplot(1,2,2)\n",
    "sns.violinplot(x='Department', y='Salary', data=df, palette=\"muted\")\n",
    "plt.title(\"Violinplot: Salary by Department\")\n",
    "\n",
    "plt.tight_layout()\n",
    "plt.show()"
   ]
  },
  {
   "cell_type": "markdown",
   "id": "4e48d088",
   "metadata": {},
   "source": [
    "### Example: Countplot\n",
    "Shows frequency of categorical values (e.g., number of employees per Department)."
   ]
  },
  {
   "cell_type": "code",
   "execution_count": 45,
   "id": "931d4856",
   "metadata": {},
   "outputs": [
    {
     "data": {
      "image/png": "[encoded data removed]",
      "text/plain": [
       "<Figure size 640x480 with 1 Axes>"
      ]
     },
     "metadata": {},
     "output_type": "display_data"
    },
    {
     "name": "stderr",
     "output_type": "stream",
     "text": [
      "/var/folders/v5/2xv9352947zbqtzrjyrby08c0000gn/T/ipykernel_5899/1166373001.py:6: FutureWarning: \n",
      "\n",
      "The `ci` parameter is deprecated. Use `errorbar=None` for the same effect.\n",
      "\n",
      "  sns.barplot(x='Department', y='Salary', data=df, estimator=np.mean, ci=None)\n"
     ]
    },
    {
     "data": {
      "image/png": "[encoded data removed]",
      "text/plain": [
       "<Figure size 640x480 with 1 Axes>"
      ]
     },
     "metadata": {},
     "output_type": "display_data"
    }
   ],
   "source": [
    "# Countplot & Barplot\n",
    "sns.countplot(x='Department', data=df)\n",
    "plt.title(\"Department Count\")\n",
    "plt.show()\n",
    "\n",
    "sns.barplot(x='Department', y='Salary', data=df, estimator=np.mean, ci=None)\n",
    "plt.title(\"Average Salary by Department\")\n",
    "plt.show()"
   ]
  },
  {
   "cell_type": "markdown",
   "id": "6568dafb",
   "metadata": {},
   "source": [
    "### Example: Heatmap\n",
    "Visualizes correlations between numeric columns."
   ]
  },
  {
   "cell_type": "code",
   "execution_count": 46,
   "id": "49a7655e",
   "metadata": {},
   "outputs": [
    {
     "data": {
      "image/png": "[encoded data removed]",
      "text/plain": [
       "<Figure size 800x600 with 2 Axes>"
      ]
     },
     "metadata": {},
     "output_type": "display_data"
    },
    {
     "ename": "KeyError",
     "evalue": "\"['AnnualSalary'] not in index\"",
     "output_type": "error",
     "traceback": [
      "\u001b[0;31m---------------------------------------------------------------------------\u001b[0m",
      "\u001b[0;31mKeyError\u001b[0m                                  Traceback (most recent call last)",
      "Cell \u001b[0;32mIn[46], line 7\u001b[0m\n\u001b[1;32m      4\u001b[0m plt\u001b[38;5;241m.\u001b[39mtitle(\u001b[38;5;124m\"\u001b[39m\u001b[38;5;124mCorrelation Heatmap\u001b[39m\u001b[38;5;124m\"\u001b[39m)\n\u001b[1;32m      5\u001b[0m plt\u001b[38;5;241m.\u001b[39mshow()\n\u001b[0;32m----> 7\u001b[0m sns\u001b[38;5;241m.\u001b[39mpairplot(\u001b[43mdf\u001b[49m\u001b[43m[\u001b[49m\u001b[43m[\u001b[49m\u001b[38;5;124;43m'\u001b[39;49m\u001b[38;5;124;43mAge\u001b[39;49m\u001b[38;5;124;43m'\u001b[39;49m\u001b[43m,\u001b[49m\u001b[38;5;124;43m'\u001b[39;49m\u001b[38;5;124;43mSalary\u001b[39;49m\u001b[38;5;124;43m'\u001b[39;49m\u001b[43m,\u001b[49m\u001b[38;5;124;43m'\u001b[39;49m\u001b[38;5;124;43mBonus\u001b[39;49m\u001b[38;5;124;43m'\u001b[39;49m\u001b[43m,\u001b[49m\u001b[38;5;124;43m'\u001b[39;49m\u001b[38;5;124;43mAnnualSalary\u001b[39;49m\u001b[38;5;124;43m'\u001b[39;49m\u001b[43m]\u001b[49m\u001b[43m]\u001b[49m, diag_kind\u001b[38;5;241m=\u001b[39m\u001b[38;5;124m'\u001b[39m\u001b[38;5;124mkde\u001b[39m\u001b[38;5;124m'\u001b[39m)\n\u001b[1;32m      8\u001b[0m plt\u001b[38;5;241m.\u001b[39mshow()\n",
      "File \u001b[0;32m~/.pyenv/versions/3.10.12/lib/python3.10/site-packages/pandas/core/frame.py:4113\u001b[0m, in \u001b[0;36mDataFrame.__getitem__\u001b[0;34m(self, key)\u001b[0m\n\u001b[1;32m   4111\u001b[0m     \u001b[38;5;28;01mif\u001b[39;00m is_iterator(key):\n\u001b[1;32m   4112\u001b[0m         key \u001b[38;5;241m=\u001b[39m \u001b[38;5;28mlist\u001b[39m(key)\n\u001b[0;32m-> 4113\u001b[0m     indexer \u001b[38;5;241m=\u001b[39m \u001b[38;5;28;43mself\u001b[39;49m\u001b[38;5;241;43m.\u001b[39;49m\u001b[43mcolumns\u001b[49m\u001b[38;5;241;43m.\u001b[39;49m\u001b[43m_get_indexer_strict\u001b[49m\u001b[43m(\u001b[49m\u001b[43mkey\u001b[49m\u001b[43m,\u001b[49m\u001b[43m \u001b[49m\u001b[38;5;124;43m\"\u001b[39;49m\u001b[38;5;124;43mcolumns\u001b[39;49m\u001b[38;5;124;43m\"\u001b[39;49m\u001b[43m)\u001b[49m[\u001b[38;5;241m1\u001b[39m]\n\u001b[1;32m   4115\u001b[0m \u001b[38;5;66;03m# take() does not accept boolean indexers\u001b[39;00m\n\u001b[1;32m   4116\u001b[0m \u001b[38;5;28;01mif\u001b[39;00m \u001b[38;5;28mgetattr\u001b[39m(indexer, \u001b[38;5;124m\"\u001b[39m\u001b[38;5;124mdtype\u001b[39m\u001b[38;5;124m\"\u001b[39m, \u001b[38;5;28;01mNone\u001b[39;00m) \u001b[38;5;241m==\u001b[39m \u001b[38;5;28mbool\u001b[39m:\n",
      "File \u001b[0;32m~/.pyenv/versions/3.10.12/lib/python3.10/site-packages/pandas/core/indexes/base.py:6212\u001b[0m, in \u001b[0;36mIndex._get_indexer_strict\u001b[0;34m(self, key, axis_name)\u001b[0m\n\u001b[1;32m   6209\u001b[0m \u001b[38;5;28;01melse\u001b[39;00m:\n\u001b[1;32m   6210\u001b[0m     keyarr, indexer, new_indexer \u001b[38;5;241m=\u001b[39m \u001b[38;5;28mself\u001b[39m\u001b[38;5;241m.\u001b[39m_reindex_non_unique(keyarr)\n\u001b[0;32m-> 6212\u001b[0m \u001b[38;5;28;43mself\u001b[39;49m\u001b[38;5;241;43m.\u001b[39;49m\u001b[43m_raise_if_missing\u001b[49m\u001b[43m(\u001b[49m\u001b[43mkeyarr\u001b[49m\u001b[43m,\u001b[49m\u001b[43m \u001b[49m\u001b[43mindexer\u001b[49m\u001b[43m,\u001b[49m\u001b[43m \u001b[49m\u001b[43maxis_name\u001b[49m\u001b[43m)\u001b[49m\n\u001b[1;32m   6214\u001b[0m keyarr \u001b[38;5;241m=\u001b[39m \u001b[38;5;28mself\u001b[39m\u001b[38;5;241m.\u001b[39mtake(indexer)\n\u001b[1;32m   6215\u001b[0m \u001b[38;5;28;01mif\u001b[39;00m \u001b[38;5;28misinstance\u001b[39m(key, Index):\n\u001b[1;32m   6216\u001b[0m     \u001b[38;5;66;03m# GH 42790 - Preserve name from an Index\u001b[39;00m\n",
      "File \u001b[0;32m~/.pyenv/versions/3.10.12/lib/python3.10/site-packages/pandas/core/indexes/base.py:6264\u001b[0m, in \u001b[0;36mIndex._raise_if_missing\u001b[0;34m(self, key, indexer, axis_name)\u001b[0m\n\u001b[1;32m   6261\u001b[0m     \u001b[38;5;28;01mraise\u001b[39;00m \u001b[38;5;167;01mKeyError\u001b[39;00m(\u001b[38;5;124mf\u001b[39m\u001b[38;5;124m\"\u001b[39m\u001b[38;5;124mNone of [\u001b[39m\u001b[38;5;132;01m{\u001b[39;00mkey\u001b[38;5;132;01m}\u001b[39;00m\u001b[38;5;124m] are in the [\u001b[39m\u001b[38;5;132;01m{\u001b[39;00maxis_name\u001b[38;5;132;01m}\u001b[39;00m\u001b[38;5;124m]\u001b[39m\u001b[38;5;124m\"\u001b[39m)\n\u001b[1;32m   6263\u001b[0m not_found \u001b[38;5;241m=\u001b[39m \u001b[38;5;28mlist\u001b[39m(ensure_index(key)[missing_mask\u001b[38;5;241m.\u001b[39mnonzero()[\u001b[38;5;241m0\u001b[39m]]\u001b[38;5;241m.\u001b[39munique())\n\u001b[0;32m-> 6264\u001b[0m \u001b[38;5;28;01mraise\u001b[39;00m \u001b[38;5;167;01mKeyError\u001b[39;00m(\u001b[38;5;124mf\u001b[39m\u001b[38;5;124m\"\u001b[39m\u001b[38;5;132;01m{\u001b[39;00mnot_found\u001b[38;5;132;01m}\u001b[39;00m\u001b[38;5;124m not in index\u001b[39m\u001b[38;5;124m\"\u001b[39m)\n",
      "\u001b[0;31mKeyError\u001b[0m: \"['AnnualSalary'] not in index\""
     ]
    }
   ],
   "source": [
    "# Heatmap & Pairplot\n",
    "plt.figure(figsize=(8,6))\n",
    "sns.heatmap(df.corr(numeric_only=True), annot=True, cmap=\"coolwarm\")\n",
    "plt.title(\"Correlation Heatmap\")\n",
    "plt.show()\n",
    "\n",
    "sns.pairplot(df[['Age','Salary','Bonus','AnnualSalary']], diag_kind='kde')\n",
    "plt.show()"
   ]
  },
  {
   "cell_type": "markdown",
   "id": "a7428ed1",
   "metadata": {},
   "source": [
    "### Example: Distribution Plot with KDE\n",
    "Histograms show data distribution. KDE adds smooth curve to visualize density."
   ]
  },
  {
   "cell_type": "code",
   "execution_count": 47,
   "id": "c7cadc62",
   "metadata": {},
   "outputs": [
    {
     "data": {
      "image/png": "[encoded data removed]",
      "text/plain": [
       "<Figure size 640x480 with 1 Axes>"
      ]
     },
     "metadata": {},
     "output_type": "display_data"
    },
    {
     "data": {
      "image/png": "[encoded data removed]",
      "text/plain": [
       "<Figure size 1200x300 with 4 Axes>"
      ]
     },
     "metadata": {},
     "output_type": "display_data"
    }
   ],
   "source": [
    "# Lineplot & FacetGrid\n",
    "sns.lineplot(x='Age', y='Salary', data=df, marker='o')\n",
    "plt.title(\"Lineplot: Age vs Salary\")\n",
    "plt.show()\n",
    "\n",
    "g = sns.FacetGrid(df, col=\"Department\")\n",
    "g.map(sns.histplot, \"Age\")\n",
    "plt.show()"
   ]
  },
  {
   "cell_type": "markdown",
   "id": "3bbb3243",
   "metadata": {},
   "source": [
    "### Example: Jointplot\n",
    "Combines scatterplot with histograms for joint distributions."
   ]
  },
  {
   "cell_type": "code",
   "execution_count": null,
   "id": "8c7d3547",
   "metadata": {},
   "outputs": [],
   "source": [
    "# Jointplot\n",
    "sns.jointplot(x='Age', y='Salary', data=df, kind='scatter')\n",
    "plt.show()"
   ]
  },
  {
   "cell_type": "markdown",
   "id": "b4091ae9",
   "metadata": {},
   "source": [
    "# 🎯 Wrap-Up\n",
    "\n",
    "- **NumPy** → Fast numerical operations (arrays, math, linear algebra, random)\n",
    "- **Pandas** → Rich data manipulation (filtering, grouping, pivot, joins)\n",
    "- **Matplotlib** → Customizable plots\n",
    "- **Seaborn** → Beautiful statistical plots\n",
    "\n",
    "👉 Together, these libraries form the **foundation of Data Science in Python**.\n",
    "\n",
    "---\n",
    "✅ Next Step: Try applying these techniques to your own dataset (CSV/Excel/SQL)."
   ]
  },
  {
   "cell_type": "code",
   "execution_count": null,
   "id": "a634802a-d965-4782-81ce-a88bdeab49cd",
   "metadata": {},
   "outputs": [],
   "source": []
  }
 ],
 "metadata": {
  "kernelspec": {
   "display_name": "Python 3 (ipykernel)",
   "language": "python",
   "name": "python3"
  },
  "language_info": {
   "codemirror_mode": {
    "name": "ipython",
    "version": 3
   },
   "file_extension": ".py",
   "mimetype": "text/x-python",
   "name": "python",
   "nbconvert_exporter": "python",
   "pygments_lexer": "ipython3",
   "version": "3.10.12"
  }
 },
 "nbformat": 4,
 "nbformat_minor": 5
}
